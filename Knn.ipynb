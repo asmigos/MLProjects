{
  "nbformat": 4,
  "nbformat_minor": 0,
  "metadata": {
    "colab": {
      "name": "Knn.ipynb",
      "provenance": [],
      "collapsed_sections": [],
      "toc_visible": true
    },
    "kernelspec": {
      "name": "python3",
      "display_name": "Python 3"
    },
    "language_info": {
      "name": "python"
    }
  },
  "cells": [
    {
      "cell_type": "code",
      "execution_count": null,
      "metadata": {
        "colab": {
          "base_uri": "https://localhost:8080/"
        },
        "id": "Bdi2udWUq90H",
        "outputId": "e931e6fc-d8be-48d9-bb50-691ce318e1be"
      },
      "outputs": [
        {
          "output_type": "stream",
          "name": "stdout",
          "text": [
            "Mounted at /content/drive\n"
          ]
        }
      ],
      "source": [
        "from google.colab import drive\n",
        "drive.mount(\"/content/drive\")"
      ]
    },
    {
      "cell_type": "code",
      "source": [
        "import numpy as np\n",
        "import pandas as pd\n",
        "from sklearn import neighbors, metrics\n",
        "from sklearn.model_selection import train_test_split\n",
        "from sklearn.preprocessing import LabelEncoder\n"
      ],
      "metadata": {
        "id": "uPh53b7jrWYS"
      },
      "execution_count": null,
      "outputs": []
    },
    {
      "cell_type": "code",
      "source": [
        "data = pd.read_csv('/content/drive/MyDrive/Demo-Algorithms-ML/car.data')\n",
        "print(data.head())"
      ],
      "metadata": {
        "colab": {
          "base_uri": "https://localhost:8080/"
        },
        "id": "7BAQu9xzr6iU",
        "outputId": "482ad3dc-0199-45ff-838b-058716b48a81"
      },
      "execution_count": null,
      "outputs": [
        {
          "output_type": "stream",
          "name": "stdout",
          "text": [
            "  buying  maint doors persons lug_boot safety  class\n",
            "0  vhigh  vhigh     2       2    small    low  unacc\n",
            "1  vhigh  vhigh     2       2    small    med  unacc\n",
            "2  vhigh  vhigh     2       2    small   high  unacc\n",
            "3  vhigh  vhigh     2       2      med    low  unacc\n",
            "4  vhigh  vhigh     2       2      med    med  unacc\n"
          ]
        }
      ]
    },
    {
      "cell_type": "code",
      "source": [
        "X = data[['buying','maint','safety']].values\n",
        "#label\n",
        "y = data[['class']]\n",
        "\n",
        "#converting the data from string to int\n",
        "#X\n",
        "Le = LabelEncoder()\n",
        "for i in range(len(X[0])):\n",
        "  X[:,i] = Le.fit_transform(X[:, i])\n",
        "print(X)"
      ],
      "metadata": {
        "colab": {
          "base_uri": "https://localhost:8080/"
        },
        "id": "QPj0-Ho6sLpw",
        "outputId": "3407f1f4-9906-42d2-ba36-11726495b881"
      },
      "execution_count": null,
      "outputs": [
        {
          "output_type": "stream",
          "name": "stdout",
          "text": [
            "[[3 3 1]\n",
            " [3 3 2]\n",
            " [3 3 0]\n",
            " ...\n",
            " [1 1 1]\n",
            " [1 1 2]\n",
            " [1 1 0]]\n"
          ]
        }
      ]
    },
    {
      "cell_type": "code",
      "source": [
        "#y\n",
        "label_mapping = {'unacc':0,\n",
        "                 'acc' : 1,\n",
        "                 'good': 2,\n",
        "                 'vgood':3}\n",
        "y['class'] = y['class'].map(label_mapping)\n",
        "y = np.array(y)\n",
        "print(y)"
      ],
      "metadata": {
        "colab": {
          "base_uri": "https://localhost:8080/"
        },
        "id": "hpbGbQRRti-z",
        "outputId": "e7450681-fe07-4b56-e9a9-8a8c2e4b756f"
      },
      "execution_count": null,
      "outputs": [
        {
          "output_type": "stream",
          "name": "stdout",
          "text": [
            "[[0]\n",
            " [0]\n",
            " [0]\n",
            " ...\n",
            " [0]\n",
            " [2]\n",
            " [3]]\n"
          ]
        },
        {
          "output_type": "stream",
          "name": "stderr",
          "text": [
            "/usr/local/lib/python3.7/dist-packages/ipykernel_launcher.py:6: SettingWithCopyWarning: \n",
            "A value is trying to be set on a copy of a slice from a DataFrame.\n",
            "Try using .loc[row_indexer,col_indexer] = value instead\n",
            "\n",
            "See the caveats in the documentation: https://pandas.pydata.org/pandas-docs/stable/user_guide/indexing.html#returning-a-view-versus-a-copy\n",
            "  \n"
          ]
        }
      ]
    },
    {
      "cell_type": "code",
      "source": [
        "#Create Model - \n",
        "# 1. KNN\n",
        "knn = neighbors.KNeighborsClassifier(n_neighbors = 25, weights='uniform')\n",
        "X_train, X_test, y_train, y_test = train_test_split(X, y, test_size = 0.2)\n",
        "knn.fit(X_train, y_train)\n"
      ],
      "metadata": {
        "colab": {
          "base_uri": "https://localhost:8080/"
        },
        "id": "Wb1_8unt4etD",
        "outputId": "10a11b88-598e-461a-ee54-b3603b9410f9"
      },
      "execution_count": null,
      "outputs": [
        {
          "output_type": "stream",
          "name": "stderr",
          "text": [
            "/usr/local/lib/python3.7/dist-packages/sklearn/neighbors/_classification.py:198: DataConversionWarning: A column-vector y was passed when a 1d array was expected. Please change the shape of y to (n_samples,), for example using ravel().\n",
            "  return self._fit(X, y)\n"
          ]
        },
        {
          "output_type": "execute_result",
          "data": {
            "text/plain": [
              "KNeighborsClassifier(n_neighbors=25)"
            ]
          },
          "metadata": {},
          "execution_count": 29
        }
      ]
    },
    {
      "cell_type": "code",
      "source": [
        "prediction = knn.predict(X_test)\n",
        "accuracy = metrics.accuracy_score(y_test, prediction)\n",
        "print(\"Predictions : \",prediction)\n",
        "print(\"accuracy: \",accuracy)"
      ],
      "metadata": {
        "colab": {
          "base_uri": "https://localhost:8080/"
        },
        "id": "v7yc2YHt5iC-",
        "outputId": "689d94db-9e3f-4769-ea5e-2e325acd8d15"
      },
      "execution_count": null,
      "outputs": [
        {
          "output_type": "stream",
          "name": "stdout",
          "text": [
            "Predictions :  [0 0 0 0 1 3 0 1 0 0 3 0 0 3 1 0 1 1 0 0 0 0 0 0 0 0 0 1 0 0 1 0 0 0 0 1 1\n",
            " 0 0 0 1 0 0 1 0 0 0 1 0 1 0 0 0 0 0 0 1 0 0 3 1 1 0 0 0 1 1 0 1 0 0 0 0 1\n",
            " 0 0 0 3 0 0 0 1 0 1 1 1 3 0 3 0 0 0 0 0 0 0 1 0 0 0 1 0 0 0 0 0 0 0 0 0 0\n",
            " 0 0 3 0 0 3 0 1 0 0 0 0 0 0 3 1 0 3 1 1 0 0 0 1 0 0 0 0 0 1 0 0 0 1 1 0 0\n",
            " 0 1 0 3 0 3 1 0 0 1 0 3 0 0 0 3 0 3 0 0 0 0 1 1 0 1 0 1 0 0 0 3 0 0 1 1 0\n",
            " 0 0 0 1 1 0 3 0 3 0 0 0 0 1 0 1 0 1 0 0 3 0 0 0 0 0 1 0 0 3 0 1 0 0 1 0 1\n",
            " 0 0 0 0 0 1 0 0 1 1 1 1 0 0 1 0 0 0 1 3 0 0 0 0 1 1 0 0 0 0 0 0 1 0 0 0 0\n",
            " 1 0 0 0 1 0 0 0 0 0 0 0 0 3 1 0 1 0 0 0 0 0 0 0 0 0 0 3 0 1 0 0 0 0 0 1 0\n",
            " 1 0 0 0 3 1 0 0 1 0 0 0 0 0 0 0 0 0 0 1 0 0 0 3 0 0 0 1 0 0 0 0 0 0 0 0 0\n",
            " 1 0 0 1 1 0 0 0 0 1 0 0 1]\n",
            "accuracy:  0.7398843930635838\n"
          ]
        }
      ]
    },
    {
      "cell_type": "code",
      "source": [
        "#checking for prediction and actual val\n",
        "a = 89\n",
        "print(\"Actual val : \",y[a])\n",
        "print(\"predicted val: \",knn.predict(X)[a])"
      ],
      "metadata": {
        "colab": {
          "base_uri": "https://localhost:8080/"
        },
        "id": "_66xDVHQ6IWq",
        "outputId": "7cab7d59-5356-4912-d33d-d68c572604fe"
      },
      "execution_count": null,
      "outputs": [
        {
          "output_type": "stream",
          "name": "stdout",
          "text": [
            "Actual val :  [0]\n",
            "predicted val:  0\n"
          ]
        }
      ]
    },
    {
      "cell_type": "code",
      "source": [
        "\n",
        " "
      ],
      "metadata": {
        "id": "SnIvQ4-B6td3"
      },
      "execution_count": null,
      "outputs": []
    },
    {
      "cell_type": "code",
      "source": [
        ""
      ],
      "metadata": {
        "id": "rcj3wgNC7JTJ"
      },
      "execution_count": null,
      "outputs": []
    }
  ]
}